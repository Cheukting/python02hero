{
 "cells": [
  {
   "cell_type": "markdown",
   "metadata": {},
   "source": [
    "# Generators"
   ]
  },
  {
   "cell_type": "code",
   "execution_count": null,
   "metadata": {},
   "outputs": [],
   "source": [
    "def numberGenerator(n):\n",
    "     number = yield\n",
    "     while number < n:\n",
    "         number = yield number \n",
    "         number += 1\n",
    "\n",
    "g = numberGenerator(10)    # Create our generator\n",
    "next(g)                    # \n",
    "print(g.send(5))"
   ]
  },
  {
   "cell_type": "code",
   "execution_count": null,
   "metadata": {},
   "outputs": [],
   "source": [
    "next(g.send(10))"
   ]
  },
  {
   "cell_type": "code",
   "execution_count": null,
   "metadata": {},
   "outputs": [],
   "source": [
    "def bottom():\n",
    "    # Returning the yield lets the value\n",
    "    # that goes up the call stack\n",
    "    # to come right back down.\n",
    "    return (yield 42)\n",
    "\n",
    "def middle():\n",
    "    return (yield from bottom())\n",
    "\n",
    "def top():\n",
    "    return (yield from middle())\n",
    "\n",
    "# Get the generator.\n",
    "gen = top()\n",
    "value = next(gen)\n",
    "print(value)  # Prints '42'.\n",
    "try:\n",
    "    value = gen.send(value * 2)\n",
    "except StopIteration as exc:\n",
    "    value = exc.value\n",
    "print(value)  # Prints '84'."
   ]
  },
  {
   "cell_type": "markdown",
   "metadata": {},
   "source": [
    "# async.io"
   ]
  },
  {
   "cell_type": "code",
   "execution_count": null,
   "metadata": {},
   "outputs": [],
   "source": [
    "import asyncio\n",
    "\n",
    "# Borrowed from http://curio.readthedocs.org/en/latest/tutorial.html.\n",
    "@asyncio.coroutine\n",
    "def countdown(number, n):\n",
    "    while n > 0:\n",
    "        print('T-minus', n, '({})'.format(number))\n",
    "        yield from asyncio.sleep(1)\n",
    "        n -= 1\n",
    "\n",
    "loop = asyncio.get_event_loop()\n",
    "tasks = [\n",
    "    asyncio.ensure_future(countdown(\"A\", 2)),\n",
    "    asyncio.ensure_future(countdown(\"B\", 3))]\n",
    "loop.run_until_complete(asyncio.wait(tasks))\n",
    "loop.close()"
   ]
  },
  {
   "cell_type": "markdown",
   "metadata": {},
   "source": [
    "# Not using async"
   ]
  },
  {
   "cell_type": "code",
   "execution_count": null,
   "metadata": {},
   "outputs": [],
   "source": [
    "import time\n",
    "# Borrowed from http://curio.readthedocs.org/en/latest/tutorial.html.\n",
    "def countdown(number, n):\n",
    "    while n > 0:\n",
    "        print('T-minus', n, '({})'.format(number))\n",
    "        yield time.sleep(1)\n",
    "        n -= 1\n",
    "\n",
    "for item in countdown(\"A\", 2):\n",
    "    continue\n",
    "for item in countdown(\"B\", 3):\n",
    "    continue"
   ]
  },
  {
   "cell_type": "markdown",
   "metadata": {},
   "source": [
    "# Async / await"
   ]
  },
  {
   "cell_type": "code",
   "execution_count": null,
   "metadata": {},
   "outputs": [],
   "source": [
    "async def countdown(number, n):\n",
    "    while n > 0:\n",
    "        print('T-minus', n, '({})'.format(number))\n",
    "        await asyncio.sleep(1)\n",
    "        n -= 1\n",
    "loop = asyncio.get_event_loop()\n",
    "tasks = [\n",
    "    asyncio.ensure_future(countdown(\"A\", 2)),\n",
    "    asyncio.ensure_future(countdown(\"B\", 3))]\n",
    "loop.run_until_complete(asyncio.wait(tasks))\n",
    "loop.close()"
   ]
  },
  {
   "cell_type": "code",
   "execution_count": null,
   "metadata": {},
   "outputs": [],
   "source": []
  }
 ],
 "metadata": {
  "kernelspec": {
   "display_name": "Python 3",
   "language": "python",
   "name": "python3"
  },
  "language_info": {
   "codemirror_mode": {
    "name": "ipython",
    "version": 3
   },
   "file_extension": ".py",
   "mimetype": "text/x-python",
   "name": "python",
   "nbconvert_exporter": "python",
   "pygments_lexer": "ipython3",
   "version": "3.7.3"
  }
 },
 "nbformat": 4,
 "nbformat_minor": 4
}
